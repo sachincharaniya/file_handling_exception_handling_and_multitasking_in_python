{
 "cells": [
  {
   "cell_type": "code",
   "execution_count": 1,
   "id": "54eda3a3",
   "metadata": {},
   "outputs": [],
   "source": [
    "#1.Write a code to read the contents of a file in python.\n",
    "# write file \n",
    "file = open('file.txt','w')\n",
    "file.write('Python is a high-level, general-purpose programming language.')\n",
    "file.close()"
   ]
  },
  {
   "cell_type": "code",
   "execution_count": 2,
   "id": "35243e17",
   "metadata": {},
   "outputs": [
    {
     "name": "stdout",
     "output_type": "stream",
     "text": [
      "Python is a high-level, general-purpose programming language.\n"
     ]
    }
   ],
   "source": [
    "# read file \n",
    "file = open('file.txt','r')\n",
    "for i in file:\n",
    "    print(i)"
   ]
  },
  {
   "cell_type": "code",
   "execution_count": 14,
   "id": "87a56266",
   "metadata": {},
   "outputs": [],
   "source": [
    "#2.Write a code to write a file in python.\n",
    "\n",
    "file = open('file.txt','w')\n",
    "file.write('Python is a high-level, general-purpose programming language.')\n",
    "file.close()"
   ]
  },
  {
   "cell_type": "code",
   "execution_count": 15,
   "id": "26b24e0a",
   "metadata": {},
   "outputs": [],
   "source": [
    "# 3.Write a code to append to file in python.\n",
    "#append\n",
    "file = open('file.txt','a')\n",
    "file.write('Python is dynamically typed and garbage-collected.')\n",
    "file.close()"
   ]
  },
  {
   "cell_type": "code",
   "execution_count": 18,
   "id": "aba435d6",
   "metadata": {},
   "outputs": [
    {
     "name": "stdout",
     "output_type": "stream",
     "text": [
      "Python is a high-level, general-purpose programming language.Python is dynamically typed and garbage-collected.\n"
     ]
    }
   ],
   "source": [
    "file = open('file.txt','r')\n",
    "for i in file:\n",
    "    print(i)"
   ]
  },
  {
   "cell_type": "code",
   "execution_count": 21,
   "id": "545137c4",
   "metadata": {},
   "outputs": [
    {
     "name": "stdout",
     "output_type": "stream",
     "text": [
      "b'Hello, World!'\n"
     ]
    }
   ],
   "source": [
    "#4.Write a code read a binary file in python.\n",
    "with open(\"test_bin.bin\",\"rb\") as f:\n",
    "    print(f.read())"
   ]
  },
  {
   "cell_type": "code",
   "execution_count": 22,
   "id": "934e107e",
   "metadata": {},
   "outputs": [],
   "source": [
    "with open(\"test_bin.bin\",\"wb\") as f:\n",
    "    f.write(b\"\\x48\\x65\\x6c\\x6c\\x6f\\x2c\\x20\\x57\\x6f\\x72\\x6c\\x64\\x21\")"
   ]
  },
  {
   "cell_type": "code",
   "execution_count": null,
   "id": "f9bd1884",
   "metadata": {},
   "outputs": [],
   "source": [
    "#5.What happens if we don’t use ‘with’ keywords with ‘open’ in python?\n",
    "#“with”\n",
    "#when you open a file using the open() function without using the with statement, you need to remember to manually close the file using the close() method. If you forget to close the file, it can lead to resource leaks, where the file remains open in the system even after your program has finished using it. This can potentially cause issues such as running out of file descriptors, especially if your program opens many files without closing them.\n",
    "\n",
    "#“open”\n",
    "#Using the with statement ensures that the file is automatically closed when the block of code inside the with statement is exited, whether due to completion or an exception being raised. This makes your code cleaner, safer, and less error-prone, as it guarantees proper resource management without needing explicit calls to close()\n"
   ]
  },
  {
   "cell_type": "code",
   "execution_count": null,
   "id": "cace9f71",
   "metadata": {},
   "outputs": [],
   "source": [
    "#6.Explain the concept of buffering in file handling and how it helps in improving read and write operations.\n",
    "#Buffering in file handling refers to the practice of temporarily storing data in memory before reading from or writing to a file. This mechanism aims to optimize read and write operations by minimizing the number of interactions with the physical storage device (such as a hard disk or SSD), which tends to be slower compared to accessing data in memory.\n",
    "\n",
    "#Here's how buffering works and how it improves read and write operations:\n",
    "\n",
    "#Reduced I/O Operations: Without buffering, every read or write operation would directly access the disk, leading to a significant overhead due to the relatively slow speed of disk I/O. With buffering, data is first read into or written from a buffer in memory. This allows the program to perform multiple read or write operations in one go, reducing the number of I/O operations and thus improving efficiency.\n",
    "\n",
    "#Batch Processing: Buffering allows data to be processed in batches rather than individually. For example, when reading from a file, instead of fetching a single byte at a time, buffering enables the program to read several kilobytes or megabytes at once into the buffer. Similarly, when writing to a file, data can be accumulated in the buffer before being flushed to the disk in larger chunks. This batch processing significantly reduces the overhead associated with I/O operations.\n",
    "\n",
    "#Improved Performance: By minimizing the number of I/O operations and leveraging batch processing, buffering typically results in improved performance, especially when dealing with large files or frequent read/write operations. The overhead of accessing the disk is mitigated, and the overall execution time of the program is reduced.\n",
    "\n",
    "#Control Over Buffering: Most programming languages and file handling libraries provide mechanisms to control buffering. For example, developers can adjust the size of the buffer, specify when to flush the buffer (i.e., write its contents to disk), or even disable buffering altogether if real-time data access is required.\n",
    "\n",
    "#Caching: In addition to buffering at the application level, modern operating systems often employ caching mechanisms to further optimize file I/O. Frequently accessed data may be cached in memory, reducing the need for repeated disk access and improving overall system performance.\n"
   ]
  },
  {
   "cell_type": "code",
   "execution_count": null,
   "id": "c367f724",
   "metadata": {},
   "outputs": [],
   "source": [
    "#7.Describe the steps involved in implementing buffered file the handling in a programming language of your choice.\n",
    "#Implementing buffered file handling in a programming language involves several steps to efficiently read from and write to files with reduced I/O operations. Below are the steps involved in implementing buffered file handling:\n",
    "\n",
    "#Open the File: Begin by opening the file you want to read from or write to. Most programming languages provide built-in functions or methods to open files. When opening a file for buffered handling, you specify the buffering mode.\n",
    "\n",
    "#Specify Buffering Mode: Choose the appropriate buffering mode based on your requirements. Buffered file handling typically involves three buffering modes:\n",
    "\n",
    "#No Buffering (Unbuffered): Data is read from or written to the file immediately without buffering.\n",
    "\n",
    "#Line Buffering: Data is buffered until a newline character (\\n) is encountered, then the buffered data is written to the file. This mode is useful when working with text files where data is written line by line.\n",
    "\n",
    "#Full Buffering: Data is buffered until the buffer is full or the file is closed. This mode is suitable for reading or writing large amounts of data.\n",
    "\n",
    "#Read or Write Data: Once the file is opened with the desired buffering mode, you can read from or write to the file as needed. When reading, data is read from the buffer rather than directly from the file, improving efficiency. Similarly, when writing, data is first buffered before being written to the file.\n",
    "\n",
    "#Flush the Buffer (Optional): In buffered file handling, data is stored in a buffer before being written to the file. Depending on the buffering mode, you may need to explicitly flush the buffer to ensure that all buffered data is written to the file. This step is often necessary when immediate data persistence is required, such as when writing critical information that should not be lost in case of program termination.\n",
    "\n",
    "#Close the File: Finally, close the file once you have finished reading from or writing to it. Closing the file ensures that any remaining buffered data is written to the file and releases system resources associated with the file."
   ]
  },
  {
   "cell_type": "code",
   "execution_count": null,
   "id": "a4b624b1",
   "metadata": {},
   "outputs": [],
   "source": [
    "#8.Write a python function to read a text file using buffered reading and return its contents.\n",
    "def read_text_file(filename):\n",
    "    try:\n",
    "        with open(filename, 'r', buffering=8192) as file:\n",
    "            \n",
    "            contents = file.read()\n",
    "        return contents\n",
    "    except IOError as e:\n",
    "        print(\"Error:\", e)\n",
    "filename = \"example.txt\"\n",
    "file_contents = read_text_file(filename)\n",
    "print(\"File contents:\")\n",
    "print(file_contents)\n"
   ]
  },
  {
   "cell_type": "code",
   "execution_count": null,
   "id": "04ef0128",
   "metadata": {},
   "outputs": [],
   "source": [
    "#9.What are the advantages of using buffered reading over direct file reading in python?\n",
    "\n",
    "#Enhanced Performance: Buffered reading minimizes the number of system calls by fetching data from the file in larger, more efficient chunks, resulting in faster read operations, especially with large files.\n",
    "\n",
    "#Optimized Disk Access: By prefetching and storing data in memory, buffered reading reduces the frequency of disk accesses, optimizing disk I/O and decreasing read latency.\n",
    "\n",
    "#Reduced Overhead: Buffered reading aggregates data in memory before delivering it to the program, reducing overhead associated with context switching and disk access time, leading to improved efficiency.\n",
    "\n",
    "#Smoothing Variability: Prefetching and storing data in memory smooth out variations in data access patterns, preventing performance spikes associated with intermittent bursts of read operations, ensuring more consistent read performance.\n",
    "\n",
    "#Controlled Buffering: Python allows specifying buffer size when opening a file, giving flexibility to optimize buffering behavior based on factors such as file size, available memory, and I/O characteristics.\n"
   ]
  },
  {
   "cell_type": "code",
   "execution_count": 2,
   "id": "656d8d1e",
   "metadata": {},
   "outputs": [
    {
     "name": "stdout",
     "output_type": "stream",
     "text": [
      "Content appended successfully.\n"
     ]
    }
   ],
   "source": [
    "#10.Write a python code snippet to append content a file using buffered writing.\n",
    "def append_to_file(filename, content):\n",
    "    try:\n",
    "        with open(filename, 'a', buffering=1) as file:\n",
    "            file.write(content)\n",
    "        print(\"Content appended successfully.\")\n",
    "    except IOError as e:\n",
    "        print(\"Error:\", e)\n",
    "\n",
    "filename = \"example.txt\"\n",
    "content = \"This content will be appended to the file.\\n\"\n",
    "append_to_file(filename, content)\n"
   ]
  },
  {
   "cell_type": "code",
   "execution_count": 3,
   "id": "9f5690d0",
   "metadata": {},
   "outputs": [
    {
     "name": "stdout",
     "output_type": "stream",
     "text": [
      "Content written to the file and file closed successfully.\n"
     ]
    }
   ],
   "source": [
    "#11.Write a python function that demonstrates the use of close() method on a file.\n",
    "def write_and_close_file(filename, content):\n",
    "    try:\n",
    "        file = open(filename, 'w')\n",
    "        file.write(content)\n",
    "        file.close()\n",
    "        print(\"Content written to the file and file closed successfully.\")\n",
    "    except IOError as e:\n",
    "        print(\"Error:\", e)\n",
    "filename = \"example.txt\"\n",
    "content = \"This content will be written to the file.\\n\"\n",
    "write_and_close_file(filename, content)\n"
   ]
  },
  {
   "cell_type": "code",
   "execution_count": 5,
   "id": "2355f14b",
   "metadata": {},
   "outputs": [
    {
     "name": "stdout",
     "output_type": "stream",
     "text": [
      "Data read from the file: This conte\n",
      "File descriptor detached.\n",
      "ValueError occurred: underlying buffer has been detached\n",
      "Detached file closed successfully.\n"
     ]
    },
    {
     "ename": "ValueError",
     "evalue": "underlying buffer has been detached",
     "output_type": "error",
     "traceback": [
      "\u001b[1;31m---------------------------------------------------------------------------\u001b[0m",
      "\u001b[1;31mValueError\u001b[0m                                Traceback (most recent call last)",
      "Cell \u001b[1;32mIn[5], line 27\u001b[0m\n\u001b[0;32m     24\u001b[0m         \u001b[38;5;28mprint\u001b[39m(\u001b[38;5;124m\"\u001b[39m\u001b[38;5;124mError:\u001b[39m\u001b[38;5;124m\"\u001b[39m, e)\n\u001b[0;32m     26\u001b[0m filename \u001b[38;5;241m=\u001b[39m \u001b[38;5;124m\"\u001b[39m\u001b[38;5;124mexample.txt\u001b[39m\u001b[38;5;124m\"\u001b[39m\n\u001b[1;32m---> 27\u001b[0m detach_file(filename)\n",
      "Cell \u001b[1;32mIn[5], line 5\u001b[0m, in \u001b[0;36mdetach_file\u001b[1;34m(filename)\u001b[0m\n\u001b[0;32m      2\u001b[0m \u001b[38;5;28;01mdef\u001b[39;00m \u001b[38;5;21mdetach_file\u001b[39m(filename):\n\u001b[0;32m      3\u001b[0m     \u001b[38;5;28;01mtry\u001b[39;00m:\n\u001b[0;32m      4\u001b[0m         \u001b[38;5;66;03m# Open the file in read mode\u001b[39;00m\n\u001b[1;32m----> 5\u001b[0m         \u001b[38;5;28;01mwith\u001b[39;00m \u001b[38;5;28mopen\u001b[39m(filename, \u001b[38;5;124m'\u001b[39m\u001b[38;5;124mr\u001b[39m\u001b[38;5;124m'\u001b[39m) \u001b[38;5;28;01mas\u001b[39;00m file:\n\u001b[0;32m      6\u001b[0m             data \u001b[38;5;241m=\u001b[39m file\u001b[38;5;241m.\u001b[39mread(\u001b[38;5;241m10\u001b[39m)\n\u001b[0;32m      7\u001b[0m             \u001b[38;5;28mprint\u001b[39m(\u001b[38;5;124m\"\u001b[39m\u001b[38;5;124mData read from the file:\u001b[39m\u001b[38;5;124m\"\u001b[39m, data)\n",
      "\u001b[1;31mValueError\u001b[0m: underlying buffer has been detached"
     ]
    }
   ],
   "source": [
    "#12.Create a python function to showcase the detach() method on a file object.\n",
    "def detach_file(filename):\n",
    "    try:\n",
    "        with open(filename, 'r') as file:\n",
    "            data = file.read(10)\n",
    "            print(\"Data read from the file:\", data)\n",
    "            file_descriptor = file.detach()\n",
    "            print(\"File descriptor detached.\")\n",
    "            try:\n",
    "                more_data = file.read(10)\n",
    "                print(\"More data read from the file:\", more_data)\n",
    "            except ValueError as e:\n",
    "                print(\"ValueError occurred:\", e)\n",
    "            file_descriptor.close()\n",
    "            print(\"Detached file closed successfully.\")\n",
    "    except IOError as e:\n",
    "        print(\"Error:\", e)\n",
    "\n",
    "filename = \"example.txt\"\n",
    "detach_file(filename)\n"
   ]
  },
  {
   "cell_type": "code",
   "execution_count": 6,
   "id": "7c3d452b",
   "metadata": {},
   "outputs": [
    {
     "name": "stdout",
     "output_type": "stream",
     "text": [
      "Initial data read from the file: This content will be\n",
      "Data read from the new file position: o the file.\n",
      "\n"
     ]
    }
   ],
   "source": [
    "#13.Write a python function to demonstrate the use of the seek() method to change the file position.\n",
    "def change_file_position(filename, position):\n",
    "    try:\n",
    "        with open(filename, 'r') as file:\n",
    "            initial_data = file.read(20)\n",
    "            print(\"Initial data read from the file:\", initial_data)\n",
    "            file.seek(position)\n",
    "            new_data = file.read(20)\n",
    "            print(\"Data read from the new file position:\", new_data)\n",
    "    except IOError as e:\n",
    "        print(\"Error:\", e)\n",
    "filename = \"example.txt\"\n",
    "position = 30\n",
    "change_file_position(filename, position)"
   ]
  },
  {
   "cell_type": "code",
   "execution_count": 8,
   "id": "dc1406b7",
   "metadata": {},
   "outputs": [
    {
     "name": "stdout",
     "output_type": "stream",
     "text": [
      "File descriptor: 3\n"
     ]
    }
   ],
   "source": [
    "#14.Write a python function to return the file descriptor (integer number) of a file using the fileno() method.\n",
    "def get_file_descriptor(filename):\n",
    "    try:\n",
    "        with open(filename, 'r') as file:\n",
    "            file_descriptor = file.fileno()\n",
    "            print(\"File descriptor:\", file_descriptor)\n",
    "            return file_descriptor\n",
    "    except IOError as e:\n",
    "        print(\"Error:\", e)\n",
    "\n",
    "filename = \"example.txt\"\n",
    "file_descriptor = get_file_descriptor(filename)"
   ]
  },
  {
   "cell_type": "code",
   "execution_count": 9,
   "id": "040f0f79",
   "metadata": {},
   "outputs": [
    {
     "name": "stdout",
     "output_type": "stream",
     "text": [
      "Current file position: 0\n"
     ]
    }
   ],
   "source": [
    "#15.Write a python function to return the current position of the file’s object using the tell() method.\n",
    "def get_current_file_position(filename):\n",
    "    try:\n",
    "        # Open the file\n",
    "        with open(filename, 'r') as file:\n",
    "            # Get the current position using tell() method\n",
    "            current_position = file.tell()\n",
    "            print(\"Current file position:\", current_position)\n",
    "            return current_position\n",
    "    except IOError as e:\n",
    "        print(\"Error:\", e)\n",
    "filename = \"example.txt\"\n",
    "current_position = get_current_file_position(filename)\n"
   ]
  },
  {
   "cell_type": "code",
   "execution_count": 14,
   "id": "27d07c7a",
   "metadata": {},
   "outputs": [],
   "source": [
    "#16.Create a python program thar logs a message to file using the logging module.\n",
    "import logging\n",
    "\n",
    "def main():\n",
    "    # Configure logging to a file\n",
    "    logging.basicConfig(filename='example.log', level=logging.INFO, format='%(asctime)s - %(levelname)s - %(message)s')\n",
    "\n",
    "    # Log a message\n",
    "    logging.info('This is a log message.')\n",
    "\n",
    "if __name__ == \"__main__\":\n",
    "    main()\n"
   ]
  },
  {
   "cell_type": "code",
   "execution_count": null,
   "id": "fa0a7bb4",
   "metadata": {},
   "outputs": [],
   "source": [
    "#17.Explain the importance of logging levels in Python’s logging module\n",
    "#Logging levels in Python's logging module are crucial for controlling the verbosity of logging output and filtering which messages are emitted by the application. They allow developers to categorize log messages based on their severity or importance, ensuring that only relevant information is logged at any given time. Here are some key points illustrating the importance of logging levels:\n",
    "\n",
    "#Granularity of Control: Logging levels provide a granular way to control the amount of information logged by the application. By assigning each log message a specific level, developers can decide which types of messages should be emitted based on their importance.\n",
    "\n",
    "#Severity Classification: Logging levels follow a hierarchy of severity, ranging from least severe to most severe. The standard levels in Python's logging module, in increasing order of severity, are DEBUG, INFO, WARNING, ERROR, and CRITICAL. Developers can choose the appropriate level for each log message based on its severity.\n",
    "\n",
    "#Debugging and Troubleshooting: During development and debugging phases, developers often rely heavily on DEBUG and INFO log messages to understand the flow of the program, track variable values, and identify potential issues. These messages provide detailed information about the application's behavior without cluttering the log files in production.\n",
    "\n",
    "#Monitoring and Production Environments: In production environments, logging levels help maintain clean and manageable log files by filtering out less important messages. While DEBUG and INFO messages are useful during development, it's common to configure production environments to only emit WARNING, ERROR, and CRITICAL messages. This ensures that important issues are promptly identified and addressed without being overwhelmed by excessive logging noise.\n",
    "\n",
    "#Security and Compliance: Logging levels play a role in security and compliance efforts by enabling the selective logging of sensitive information. By carefully controlling the logging levels, developers can avoid leaking confidential data or exposing sensitive details in log files, which could potentially lead to security breaches or compliance violations.\n",
    "\n",
    "#Resource Optimization: By tuning the logging levels appropriately, developers can optimize resource usage, such as disk space and processing power, associated with logging. Reducing the volume of logged messages in production environments helps minimize the impact on system performance and storage requirements"
   ]
  },
  {
   "cell_type": "code",
   "execution_count": null,
   "id": "df7871ba",
   "metadata": {},
   "outputs": [],
   "source": [
    "#18.Create a python program that uses the debugger to find the value of a variable inside a loop.\n",
    "import pdb\n",
    "\n",
    "def calculate_sum(n):\n",
    "    total = 0\n",
    "    for i in range(1, n + 1):\n",
    "        # Set a breakpoint\n",
    "        pdb.set_trace()\n",
    "\n",
    "        # Add the current value of i to total\n",
    "        total += i\n",
    "\n",
    "    return total\n",
    "\n",
    "# Call the function with a specific value of n\n",
    "result = calculate_sum(5)\n",
    "print(\"Result:\", result)\n"
   ]
  },
  {
   "cell_type": "code",
   "execution_count": null,
   "id": "48dbe677",
   "metadata": {},
   "outputs": [
    {
     "name": "stdout",
     "output_type": "stream",
     "text": [
      "> \u001b[1;32mc:\\users\\sachi\\appdata\\local\\temp\\ipykernel_2028\\2362997430.py\u001b[0m(8)\u001b[0;36mcalculate_sum\u001b[1;34m()\u001b[0m\n",
      "\n",
      "--KeyboardInterrupt--\n",
      "\n",
      "KeyboardInterrupt: Interrupted by user\n",
      "> \u001b[1;32mc:\\users\\sachi\\appdata\\local\\temp\\ipykernel_2028\\2362997430.py\u001b[0m(8)\u001b[0;36mcalculate_sum\u001b[1;34m()\u001b[0m\n",
      "\n"
     ]
    }
   ],
   "source": [
    "#19.Create a python program that demonstrates setting breakpoints and inspecting variables using the debugger.\n",
    "import pdb\n",
    "\n",
    "def calculate_sum(n):\n",
    "    total = 0\n",
    "    for i in range(1, n + 1):\n",
    "        pdb.set_trace()\n",
    "        total += i\n",
    "    return total\n",
    "result = calculate_sum(5)\n",
    "print(\"Result:\", result)\n"
   ]
  },
  {
   "cell_type": "code",
   "execution_count": null,
   "id": "e90ff206",
   "metadata": {},
   "outputs": [],
   "source": [
    "#20.Create a python program that uses the debugger to trace a recursive function.\n",
    "import pdb\n",
    "\n",
    "def factorial(n):\n",
    "    # Set a breakpoint\n",
    "    pdb.set_trace()\n",
    "\n",
    "    if n == 0:\n",
    "        return 1\n",
    "    else:\n",
    "        return n * factorial(n - 1)\n",
    "\n",
    "# Call the recursive function with a specific value of n\n",
    "result = factorial(5)\n",
    "print(\"Factorial:\", result)\n"
   ]
  },
  {
   "cell_type": "code",
   "execution_count": 24,
   "id": "48fdca30",
   "metadata": {},
   "outputs": [
    {
     "name": "stdout",
     "output_type": "stream",
     "text": [
      "Error: Cannot divide by zero!\n"
     ]
    }
   ],
   "source": [
    "#21.Write a try-except block to handle to ZeroDivisionError.\n",
    "try:\n",
    "    result = 10 / 0  \n",
    "    print(\"Result:\", result)\n",
    "except ZeroDivisionError:\n",
    "    print(\"Error: Cannot divide by zero!\")"
   ]
  },
  {
   "cell_type": "code",
   "execution_count": 26,
   "id": "c75bc6f9",
   "metadata": {},
   "outputs": [
    {
     "name": "stdout",
     "output_type": "stream",
     "text": [
      "Division successful!\n",
      "Result: 5.0\n"
     ]
    }
   ],
   "source": [
    "#22. How does the else block work with try-except?\n",
    "try:\n",
    "    result = 10 / 2\n",
    "except ZeroDivisionError:\n",
    "    print(\"Error: Cannot divide by zero!\")\n",
    "else:\n",
    "    print(\"Division successful!\")\n",
    "    print(\"Result:\", result)"
   ]
  },
  {
   "cell_type": "code",
   "execution_count": 28,
   "id": "e8f2fcb4",
   "metadata": {},
   "outputs": [
    {
     "name": "stdout",
     "output_type": "stream",
     "text": [
      "Error: File not found!\n"
     ]
    }
   ],
   "source": [
    "#23.Implement a try-except-else block to open and read a file.\n",
    "try:\n",
    "    with open(\"example.txt\", \"r\") as file:\n",
    "        contents = file.read()\n",
    "except FileNotFoundError:\n",
    "    print(\"Error: File not found!\")\n",
    "else:\n",
    "    print(\"File contents:\")\n",
    "    print(contents)"
   ]
  },
  {
   "cell_type": "code",
   "execution_count": null,
   "id": "07fca914",
   "metadata": {},
   "outputs": [],
   "source": [
    "#24. What is the purpose of the finally block in exception handling.\n",
    "The finally block in exception handling serves the purpose of providing a mechanism to execute cleanup code regardless of whether an exception occurs or not. "
   ]
  },
  {
   "cell_type": "code",
   "execution_count": 30,
   "id": "b2bd50ec",
   "metadata": {},
   "outputs": [
    {
     "name": "stdout",
     "output_type": "stream",
     "text": [
      "Enter a number: 72020\n",
      "Execution of try-except block is complete.\n"
     ]
    }
   ],
   "source": [
    "#25.Write a try-except-finally block to handle a ValueError.\n",
    "try:\n",
    "    num = int(input(\"Enter a number: \"))\n",
    "except ValueError:\n",
    "    print(\"Error: Invalid input! Please enter a valid integer.\")\n",
    "finally:\n",
    "    print(\"Execution of try-except block is complete.\")"
   ]
  },
  {
   "cell_type": "code",
   "execution_count": 39,
   "id": "fddff849",
   "metadata": {},
   "outputs": [
    {
     "name": "stdout",
     "output_type": "stream",
     "text": [
      "Result: 5.0\n"
     ]
    }
   ],
   "source": [
    "#26.How multiple except blocks work in python?\n",
    "try:\n",
    "    result = 10 / 2\n",
    "    print(\"Result:\", result)\n",
    "except ZeroDivisionError:\n",
    "    print(\"Error: Cannot divide by zero!\")\n",
    "except TypeError:\n",
    "    print(\"Error: Unsupported operation!\")\n",
    "except Exception as e\n",
    "    print(\"Error:\", e)"
   ]
  },
  {
   "cell_type": "code",
   "execution_count": null,
   "id": "550f6f6f",
   "metadata": {},
   "outputs": [],
   "source": [
    "#27.What is custom exception in python?\n",
    "\n",
    "#A custom exception is an exception class that you define yourself by subclassing the built-in Exception class or one of its subclasses. Custom exceptions allow you to create and raise specific types of exceptions tailored to the needs of your application.\n"
   ]
  },
  {
   "cell_type": "code",
   "execution_count": 43,
   "id": "2c986d9b",
   "metadata": {},
   "outputs": [
    {
     "name": "stdout",
     "output_type": "stream",
     "text": [
      "Caught CustomError: This is a custom error message.\n"
     ]
    }
   ],
   "source": [
    "#28.Create a custom exception class with a message.\n",
    "class CustomError(Exception):\n",
    "    \"\"\"Custom exception class with a message.\"\"\"\n",
    "    def __init__(self, message):\n",
    "        self.message = message\n",
    "        super().__init__(self.message)\n",
    "\n",
    "# Example of raising the custom exception with a message\n",
    "try:\n",
    "    raise CustomError(\"This is a custom error message.\")\n",
    "except CustomError as e:\n",
    "    print(\"Caught CustomError:\", e.message)\n"
   ]
  },
  {
   "cell_type": "code",
   "execution_count": 50,
   "id": "12b50c26",
   "metadata": {},
   "outputs": [
    {
     "name": "stdout",
     "output_type": "stream",
     "text": [
      "Caught CustomError: This is a custom error message.\n"
     ]
    }
   ],
   "source": [
    "#29.Write a code to raise a custom exception in python.\n",
    "class CustomError(Exception):\n",
    "    \"\"\"Custom exception class.\"\"\"\n",
    "    def __init__(self, message=\"An error occurred.\"):\n",
    "        self.message = message\n",
    "        super().__init__(self.message)\n",
    "\n",
    "def raise_custom_exception():\n",
    "    try:\n",
    "        raise CustomError(\"This is a custom error message.\")\n",
    "    except CustomError as e:\n",
    "        print(\"Caught CustomError:\", e.message)\n",
    "\n",
    "# Call the function to raise the custom exception\n",
    "raise_custom_exception()\n"
   ]
  },
  {
   "cell_type": "code",
   "execution_count": 51,
   "id": "44513c73",
   "metadata": {},
   "outputs": [
    {
     "name": "stdout",
     "output_type": "stream",
     "text": [
      "Caught CustomError: Value must be non-negative.\n"
     ]
    }
   ],
   "source": [
    "#30.Write a function thar raises a custom exception when a value is negative.\n",
    "class CustomError(Exception):\n",
    "    \"\"\"Custom exception class.\"\"\"\n",
    "    def __init__(self, message=\"An error occurred.\"):\n",
    "        self.message = message\n",
    "        super().__init__(self.message)\n",
    "def custom_function(value):\n",
    "    if value < 0:\n",
    "        raise CustomError(\"Value must be non-negative.\")\n",
    "    else:\n",
    "        print(\"Value is:\", value)\n",
    "\n",
    "try:\n",
    "    #custom_function(5)  # No exception raised\n",
    "    custom_function(-2)  # Raises CustomError with a custom message\n",
    "except CustomError as e:\n",
    "    print(\"Caught CustomError:\", e.message)"
   ]
  },
  {
   "cell_type": "code",
   "execution_count": null,
   "id": "aa4391b8",
   "metadata": {},
   "outputs": [],
   "source": [
    "#31.What is the role of try,except,else and finally in handling exceptions.\n",
    "\n",
    "#try block: The try block is used to enclose code that may raise exceptions. It is the primary block where you expect exceptions to occur. If an exception occurs within the try block, Python searches for an appropriate except block to handle it.\n",
    "\n",
    "#except block: An except block is used to catch and handle exceptions that occur within the corresponding try block. Multiple except blocks can be used to catch different types of exceptions. If an exception occurs in the try block and matches the type specified in an except block, the code within that except block is executed. If no matching except block is found, the exception propagates to the outer scope or the program terminates with an unhandled exception error.\n",
    "\n",
    "#else block: The else block is optional and is executed if no exceptions occur in the try block. It allows you to specify code that should only run if no exceptions are raised. This block is often used for code that should execute when the try block completes successfully, separate from the exception handling logic.\n",
    "\n",
    "#finally block: The finally block is optional and is used to specify cleanup code that should always be executed, regardless of whether an exception occurs or not. This block is executed whether an exception occurs within the try block, is caught by an except block, or if the try block completes without raising any exceptions. Common use cases for the finally block include releasing resources (such as closing files or database connections) and performing cleanup tasks.\n"
   ]
  },
  {
   "cell_type": "code",
   "execution_count": null,
   "id": "bf9cc8e9",
   "metadata": {},
   "outputs": [],
   "source": [
    "#32.How can custom exceptions improve code readability and maintainability?\n",
    "#Custom exceptions improve code readability and maintainability by providing:\n",
    "\n",
    "#Semantic Clarity:   Meaningful exception names convey specific error conditions.\n",
    "#Structured Error Handling:  Organized hierarchy helps manage error logic effectively.\n",
    "#Separation of Concerns: Decouples error handling from core logic for cleaner code.\n",
    "#Improved Debugging: Custom exceptions offer detailed context for troubleshooting.\n",
    "#Enhanced Documentation: Self-documenting exceptions aid in understanding usage patterns.\n",
    "#Modular Error Reporting: Allows for consistent and predictable error reporting mechanisms.\n",
    "#Domain-Specific Handling: Custom exceptions cater to application-specific error scenarios.\n",
    "#Readable Error Messages: Clear error messages help developers understand issues quickly.\n",
    "#Predictable Behavior: Encourages standardized error handling practices across the codebase.\n",
    "#Maintainable Error Logic: Easier to extend and maintain error-handling logic over time.\n"
   ]
  },
  {
   "cell_type": "code",
   "execution_count": null,
   "id": "e3b0f876",
   "metadata": {},
   "outputs": [],
   "source": [
    "#33.What is multithreading.\n",
    "\n",
    "#Multithreading is a programming concept that allows multiple threads of execution to run concurrently within a single process. A thread is the smallest unit of execution within a process, and multithreading enables a program to perform multiple tasks simultaneously by dividing the CPU time among different threads.\n"
   ]
  },
  {
   "cell_type": "code",
   "execution_count": 6,
   "id": "f82dff47",
   "metadata": {},
   "outputs": [
    {
     "name": "stdout",
     "output_type": "stream",
     "text": [
      "This is a thread\n",
      "Thread execution is complete\n"
     ]
    }
   ],
   "source": [
    "#34.Create a thread in python.\n",
    "import threading\n",
    "\n",
    "# Define a function that will be executed in the thread\n",
    "def thread_function():\n",
    "    print(\"This is a thread\")\n",
    "\n",
    "my_thread = threading.Thread(target=thread_function)\n",
    "\n",
    "my_thread.start()\n",
    "\n",
    "my_thread.join()\n",
    "\n",
    "print(\"Thread execution is complete\")\n"
   ]
  },
  {
   "cell_type": "code",
   "execution_count": null,
   "id": "bb01245c",
   "metadata": {},
   "outputs": [],
   "source": [
    "#35.What is the Global interpreter Lock(GIL) in python?\n",
    "\n",
    "#The Global Interpreter Lock (GIL) in Python is a mutex (or lock) that protects access to Python objects, preventing multiple native threads from executing Python bytecodes at once. In simple terms, it ensures that only one thread executes Python bytecode at any given time, even on multi-core systems. This means that Python threads cannot fully utilize multiple CPU cores for CPU-bound tasks.\n",
    "\n",
    "#The GIL exists primarily because CPython, the most widely used implementation of Python, uses reference counting for memory management. The GIL simplifies the implementation of the interpreter by avoiding the need for thread-safe memory allocation and deallocation, as well as garbage collection.\n",
    "\n",
    "#While the GIL can limit the performance of multi-threaded Python programs for CPU-bound tasks, it is less of an issue for I/O-bound tasks, as the GIL is released during I/O operations, allowing other threads to run. Additionally, alternative implementations of Python, such as PyPy, Jython, and IronPython, may not have a GIL or may have different concurrency models.\n"
   ]
  },
  {
   "cell_type": "code",
   "execution_count": 10,
   "id": "e91b66aa",
   "metadata": {},
   "outputs": [
    {
     "name": "stdout",
     "output_type": "stream",
     "text": [
      "1\n",
      "2\n",
      "3\n",
      "4\n",
      "5\n",
      "1\n",
      "2\n",
      "3\n",
      "4\n",
      "5\n",
      "All threads have finished executing\n"
     ]
    }
   ],
   "source": [
    "#36.Implement a simple multithreading example in python?\n",
    "import threading\n",
    "\n",
    "def print_numbers():\n",
    "    for i in range(1, 6):\n",
    "        print(i)\n",
    "\n",
    "thread1 = threading.Thread(target=print_numbers)\n",
    "thread2 = threading.Thread(target=print_numbers)\n",
    "\n",
    "thread1.start()\n",
    "thread2.start()\n",
    "\n",
    "thread1.join()\n",
    "thread2.join()\n",
    "\n",
    "print(\"All threads have finished executing\")\n"
   ]
  },
  {
   "cell_type": "code",
   "execution_count": 11,
   "id": "6e73afa4",
   "metadata": {},
   "outputs": [],
   "source": [
    "#37.What is the purpose of the ‘join()’ method in threading?\n",
    "\n",
    "#The join() method in threading serves the purpose of making sure that the program waits for a thread to complete its execution before moving on to the next steps.\n",
    "\n",
    "#When you call join() on a thread, the program will pause and wait until that thread has finished running before continuing with the rest of the code execution. This is particularly useful when you have multiple threads running concurrently, and you need to synchronize their execution or wait for their results before proceeding."
   ]
  },
  {
   "cell_type": "code",
   "execution_count": 12,
   "id": "7377b045",
   "metadata": {},
   "outputs": [],
   "source": [
    "#38.Describe a scenario where multithreading would be beneficial in Python.\n",
    "#Multithreading can be beneficial in Python in various scenarios, especially when dealing with I/O-bound tasks and improving responsiveness in applications. Here's a scenario where multithreading would be beneficial:\n",
    "\n",
    "#Web Scraping:\n",
    "#Imagine you're building a web scraper that needs to fetch data from multiple websites. Each website request involves waiting for a response, which is an I/O-bound task. Instead of waiting for one request to complete before initiating the next one, you can use multithreading to make concurrent requests to different websites, thus speeding up the overall scraping process.\n",
    "\n",
    "#Graphical User Interface (GUI) Applications:\n",
    "#In GUI applications, it's crucial to keep the user interface responsive, especially when performing time-consuming tasks like reading data from files, processing large datasets, or fetching information from the internet. Multithreading can help ensure that the GUI remains responsive while these tasks are executed in the background.\n",
    "#For instance, consider a photo editing application where users can apply various filters to images. When a user selects an image and applies a filter, the application needs to process the image, which can be computationally intensive, especially for high-resolution images. Without multithreading, the GUI might freeze or become unresponsive while the image is being processed.\n",
    "\n",
    "#Server-Side Applications:\n",
    "#In server-side applications, especially those handling multiple client connections simultaneously, multithreading can significantly improve performance and responsiveness.\n",
    "#Consider a web server that receives requests from multiple clients concurrently. Each client request typically involves I/O operations such as reading from or writing to files, accessing databases, or making network calls to fetch data. These I/O-bound tasks can cause delays if handled sequentially, especially if one request takes longer to complete."
   ]
  },
  {
   "cell_type": "code",
   "execution_count": 13,
   "id": "ed9b14e7",
   "metadata": {},
   "outputs": [],
   "source": [
    "#39.What is multiprocessing in Python?\n",
    "#Multiprocessing in Python refers to the ability to create and manage multiple processes to execute tasks concurrently. Unlike multithreading, where multiple threads run within the same process and share the same memory space, multiprocessing involves creating separate memory spaces for each process. This allows processes to run truly concurrently and take advantage of multiple CPU cores."
   ]
  },
  {
   "cell_type": "code",
   "execution_count": null,
   "id": "b95ad704",
   "metadata": {},
   "outputs": [],
   "source": [
    "#40.How is multiprocessing different from multithreading in Python?\n",
    "\n",
    "#1.Independence:\n",
    "    #Multiprocessing : In multiprocessing, each process runs independently with its own memory space. Processes do not share memory by default, and communication between them requires explicit mechanisms such as inter-process communication (IPC).\n",
    "    #Multithreading: In multithreading, multiple threads share the same memory space within a single process. Threads can communicate more directly by accessing shared data.\n",
    "\n",
    "#2. communication: \n",
    "    #Multiprocessing: Communication between processes is typically achieved through IPC mechanisms like message passing, shared memory, or file-based communication.\n",
    "    #Multithreading: Threads can communicate more easily by sharing data directly, as they have access to the same memory space.\n",
    "\n",
    "#3.Fault Isolation: \n",
    "    #Multiprocessing: Processes are more isolated, providing better fault isolation. If one process crashes, it does not necessarily affect others. \n",
    "    #Multithreading: Threads within the same process share the same memory space, making them more susceptible to issues such as data corruption or unintended interactions.\n",
    "\n",
    "#4.Resource Utilization:\n",
    "    #Multiprocessing : Can take advantage of multiple CPU cores, as each process can run on a separate core. Suitable for CPU-bound tasks.\n",
    "    #Multithreading: Suitable for I/O-bound tasks or tasks where parallelism can be achieved within a single process\n",
    "    \n",
    "#5. Concurrency:\n",
    "    #Multiprocessing : Involves concurrent execution of multiple processes, each with its own program counter and resources.\n",
    "    #Multithreading : Involves concurrent execution of multiple threads within the same process, sharing the same program counter\n"
   ]
  },
  {
   "cell_type": "code",
   "execution_count": 15,
   "id": "e4992adc",
   "metadata": {},
   "outputs": [
    {
     "name": "stdout",
     "output_type": "stream",
     "text": [
      "Parent process ID: 3128\n"
     ]
    }
   ],
   "source": [
    "#41.Create a process using the multiprocessing module in Python?\n",
    "import multiprocessing\n",
    "import os\n",
    "\n",
    "def process_function():\n",
    "    print(f\"Process ID: {os.getpid()}\")\n",
    "    print(\"This is a child process\")\n",
    "\n",
    "if __name__ == \"__main__\":\n",
    "    my_process = multiprocessing.Process(target=process_function)\n",
    "    my_process.start()\n",
    "    my_process.join()\n",
    "\n",
    "    \n",
    "    print(f\"Parent process ID: {os.getpid()}\")"
   ]
  },
  {
   "cell_type": "code",
   "execution_count": null,
   "id": "8d53a1ed",
   "metadata": {},
   "outputs": [],
   "source": [
    "#42.Explain the concept of pool in the multiprocessing module.\n",
    "\n",
    "#ln the multiprocessing module of Python, a \"pool\" refers to a group of worker processes that are used to perform parallel execution of tasks. The multiprocessing.Pool class provides a convenient way to distribute tasks among a fixed number of worker processes, manage their execution, and collect their results asynchronously.\n",
    "\n",
    "#Creation of Pool:\n",
    "\n",
    "#To create a pool, you instantiate an object of the Pool class, optionally specifying the number of worker processes to include in the pool. If no number is provided, the default is the number of CPU cores available on the system.\n",
    "#Distribution of Tasks:\n",
    "\n",
    "#Once the pool is created, you can distribute tasks among the worker processes using various methods provided by the Pool class, such as apply(), apply_async(), map(), and map_async().\n",
    "#These methods accept the function to be executed and its arguments, and they automatically distribute the tasks among the worker processes in the pool.\n",
    "\n",
    "#Parallel Execution:\n",
    "\n",
    "#The worker processes in the pool execute tasks concurrently, with each process working on a separate task independently.\n",
    "#The Pool class manages the execution of tasks, ensuring that each worker process receives its share of the workload.\n",
    "\n",
    "#Asynchronous Result Collection:\n",
    "\n",
    "#When tasks are executed asynchronously using methods like apply_async() or map_async(), the Pool class returns an AsyncResult object for each task.\n",
    "#You can use these AsyncResult objects to retrieve the results of individual tasks or wait for all tasks to complete.\n",
    "\n",
    "#Resource Management:\n",
    "\n",
    "#The Pool class manages the creation, execution, and termination of worker processes transparently, handling issues such as process creation overhead and resource cleanup.\n",
    "#Here's a simplified example of how to use a pool in the multiprocessing module to calculate squares of numbers concurrently\n"
   ]
  },
  {
   "cell_type": "code",
   "execution_count": null,
   "id": "2ac94438",
   "metadata": {},
   "outputs": [],
   "source": [
    "#43.Explain inter-process communication in multiprocessing.\n",
    "\n",
    "#Inter-process communication (IPC) in multiprocessing refers to the mechanisms and techniques used for communication and data exchange between multiple processes running concurrently. In Python's multiprocessing module, IPC is essential for coordinating the activities of different processes, sharing data, and synchronizing their execution.\n",
    "#Pipes:\n",
    "#Pipes are a simple form of IPC that allows communication between two processes. In Python, the multiprocessing.Pipe() function creates a pair of connection objects, each representing one end of the pipe.\n",
    "#Data written to one end of the pipe can be read from the other end, enabling bidirectional communication.\n",
    "#Pipes are typically used for communication between parent and child processes.\n",
    "\n",
    "#Queues:\n",
    "#Queues provide a more versatile form of IPC compared to pipes. They allow multiple processes to communicate with each other by sending and receiving messages through a shared queue.\n",
    "#In Python's multiprocessing module, the multiprocessing.Queue() class provides a synchronized queue implementation that can be safely accessed by multiple processes.\n",
    "#Queues are often used for task distribution, work coordination, and data sharing among multiple processes.\n",
    "\n",
    "#Shared Memory:\n",
    "#Shared memory enables multiple processes to access a common memory region, allowing them to share data without needing to copy it between processes.\n",
    "#In Python, the multiprocessing.Value and multiprocessing.Array classes provide shared memory objects that can be used to store primitive data types and arrays, respectively.\n",
    "#Shared memory is useful for high-performance scenarios where processes need to exchange large amounts of data efficiently.\n",
    "\n",
    "#Manager Objects:\n",
    "#Manager objects provide a high-level interface for sharing Python objects (e.g., lists, dictionaries, etc.) between processes.\n",
    "#In Python's multiprocessing module, the multiprocessing.Manager() class creates a server process that manages shared objects on behalf of other processes.\n",
    "#Manager objects offer a convenient way to share complex data structures and synchronize access to them across multiple processes.\n",
    "\n",
    "#Synchronization Primitives:\n",
    "#In addition to data exchange mechanisms, synchronization primitives such as locks, semaphores, events, and barriers are essential for coordinating access to shared resources and preventing race conditions between processes.\n",
    "#Python's multiprocessing module provides classes like multiprocessing.Lock, multiprocessing.Semaphore, multiprocessing.Event, and multiprocessing.Barrier for implementing synchronization primitives.\n"
   ]
  },
  {
   "cell_type": "code",
   "execution_count": null,
   "id": "f391bb15",
   "metadata": {},
   "outputs": [],
   "source": []
  }
 ],
 "metadata": {
  "kernelspec": {
   "display_name": "Python 3 (ipykernel)",
   "language": "python",
   "name": "python3"
  },
  "language_info": {
   "codemirror_mode": {
    "name": "ipython",
    "version": 3
   },
   "file_extension": ".py",
   "mimetype": "text/x-python",
   "name": "python",
   "nbconvert_exporter": "python",
   "pygments_lexer": "ipython3",
   "version": "3.11.5"
  }
 },
 "nbformat": 4,
 "nbformat_minor": 5
}
